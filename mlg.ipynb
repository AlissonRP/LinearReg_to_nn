{
 "cells": [
  {
   "cell_type": "markdown",
   "metadata": {},
   "source": [
    "### From MLG to nn"
   ]
  },
  {
   "cell_type": "code",
   "execution_count": 2,
   "metadata": {},
   "outputs": [],
   "source": [
    "from sklearn.model_selection import train_test_split\n",
    "from sklearn import datasets\n",
    "from torch.utils.data import DataLoader, Dataset\n",
    "import torch\n",
    "from torch import nn\n"
   ]
  },
  {
   "cell_type": "code",
   "execution_count": 3,
   "metadata": {},
   "outputs": [],
   "source": [
    "df  = datasets.load_diabetes()"
   ]
  },
  {
   "cell_type": "code",
   "execution_count": 4,
   "metadata": {},
   "outputs": [],
   "source": [
    "X = torch.from_numpy(df.data)\n",
    "y = torch.from_numpy(df.target)"
   ]
  },
  {
   "cell_type": "code",
   "execution_count": 26,
   "metadata": {},
   "outputs": [],
   "source": []
  },
  {
   "cell_type": "markdown",
   "metadata": {},
   "source": [
    "### Nothing new until now"
   ]
  },
  {
   "cell_type": "code",
   "execution_count": 5,
   "metadata": {},
   "outputs": [],
   "source": [
    "from torch.utils.data import TensorDataset\n",
    "dataset = TensorDataset(X, y)\n",
    "\n",
    "from torch.utils.data import DataLoader\n",
    "\n",
    "\n",
    "train_loader = DataLoader(dataset, batch_size = 25, shuffle=True)\n"
   ]
  },
  {
   "cell_type": "code",
   "execution_count": 34,
   "metadata": {},
   "outputs": [],
   "source": [
    "#https://www.analyticsvidhya.com/blog/2021/08/linear-regression-and-gradient-descent-in-pytorch/\n",
    "def rmse(y,y_hat):\n",
    "    return torch.sqrt(((torch.pow(y-y_hat,2))/torch.numel(y)).sum())\n",
    "\n"
   ]
  },
  {
   "cell_type": "code",
   "execution_count": 6,
   "metadata": {},
   "outputs": [],
   "source": [
    "w = torch.randn(1,int(X[1].numel()), requires_grad=True)\n",
    "b = torch.randn(int(X.numel()/X[1].numel()), 1, requires_grad=True)\n"
   ]
  },
  {
   "cell_type": "code",
   "execution_count": 12,
   "metadata": {},
   "outputs": [],
   "source": [
    "def LinearReg(X):\n",
    "    y = X.float() @ w.transpose(0,1) + b\n",
    "    return y\n",
    "    "
   ]
  },
  {
   "cell_type": "code",
   "execution_count": 35,
   "metadata": {},
   "outputs": [
    {
     "data": {
      "text/plain": [
       "tensor(12857710.4211, dtype=torch.float64, grad_fn=<SumBackward0>)"
      ]
     },
     "execution_count": 35,
     "metadata": {},
     "output_type": "execute_result"
    }
   ],
   "source": [
    "#LinearReg(X)\n",
    "\n",
    "mse(y, LinearReg(X))"
   ]
  },
  {
   "cell_type": "code",
   "execution_count": 71,
   "metadata": {},
   "outputs": [
    {
     "ename": "AttributeError",
     "evalue": "'NoneType' object has no attribute 'zero_'",
     "output_type": "error",
     "traceback": [
      "\u001b[0;31m---------------------------------------------------------------------------\u001b[0m",
      "\u001b[0;31mAttributeError\u001b[0m                            Traceback (most recent call last)",
      "\u001b[1;32m/home/alissom/Documentos/Projetos_py/mlg/mlg.ipynb Cell 12'\u001b[0m in \u001b[0;36m<cell line: 1>\u001b[0;34m()\u001b[0m\n\u001b[0;32m----> <a href='vscode-notebook-cell:/home/alissom/Documentos/Projetos_py/mlg/mlg.ipynb#ch0000011?line=0'>1</a>\u001b[0m w\u001b[39m.\u001b[39;49mgrad\u001b[39m.\u001b[39;49mzero_()\n",
      "\u001b[0;31mAttributeError\u001b[0m: 'NoneType' object has no attribute 'zero_'"
     ]
    }
   ],
   "source": []
  },
  {
   "cell_type": "code",
   "execution_count": 69,
   "metadata": {},
   "outputs": [],
   "source": [
    "learning_rate = 0.01\n",
    "for i in range(1000):\n",
    "    y_hat = LinearReg(train_loader)\n",
    "    loss = mse(y,y_hat)\n",
    "    loss.backward()\n",
    "    with torch.no_grad():\n",
    "        w -= learning_rate * w.grad\n",
    "        b -= learning_rate * b.grad\n",
    "        w.grad = None\n",
    "        b.grad = None"
   ]
  },
  {
   "cell_type": "code",
   "execution_count": 70,
   "metadata": {},
   "outputs": [
    {
     "data": {
      "text/plain": [
       "tensor(1618.9531, dtype=torch.float64, grad_fn=<SqrtBackward>)"
      ]
     },
     "execution_count": 70,
     "metadata": {},
     "output_type": "execute_result"
    }
   ],
   "source": [
    "rmse(y, LinearReg(X))"
   ]
  },
  {
   "cell_type": "code",
   "execution_count": 60,
   "metadata": {},
   "outputs": [],
   "source": [
    "from sklearn.linear_model import LinearRegression\n",
    "reg = LinearRegression().fit(df.data,df.target)"
   ]
  },
  {
   "cell_type": "code",
   "execution_count": 62,
   "metadata": {},
   "outputs": [
    {
     "data": {
      "text/plain": [
       "2859.6903987680657"
      ]
     },
     "execution_count": 62,
     "metadata": {},
     "output_type": "execute_result"
    }
   ],
   "source": [
    "from sklearn.metrics import mean_squared_error\n",
    "\n",
    "mean_squared_error(reg.predict(df.data),df.target)"
   ]
  },
  {
   "cell_type": "code",
   "execution_count": 92,
   "metadata": {},
   "outputs": [],
   "source": [
    "class LinearReg():\n",
    "   def __init__(self):\n",
    "      self.w = torch.randn(1,int(X[1].numel()), requires_grad=True)\n",
    "      self.b = torch.randn(int(X.numel()/X[1].numel()), 1, requires_grad=True)\n",
    "   def LinearReg(X):\n",
    "      y = X.float() @ self.w.transpose(0,1) + self.b\n",
    "      return self.y\n",
    "\n",
    "   def rmse(self,y,y_hat):\n",
    "      return torch.sqrt(((torch.pow(self.y-self.y_hat,2))/torch.numel(self.y)).sum())\n",
    "\n",
    "   def fit(self,X):\n",
    "      learning_rate = 0.01\n",
    "      for i in range(300):\n",
    "         y_hat = LinearReg(X)\n",
    "         loss = rmse(self.y,y_hat)\n",
    "         loss.backward()\n",
    "         with torch.no_grad():\n",
    "            w -= learning_rate * self.w.grad\n",
    "            b -= learning_rate * self.b.grad\n",
    "            self.w.grad = None\n",
    "            self.b.grad = None\n"
   ]
  },
  {
   "cell_type": "code",
   "execution_count": 95,
   "metadata": {},
   "outputs": [
    {
     "ename": "AttributeError",
     "evalue": "'LinearReg' object has no attribute 'float'",
     "output_type": "error",
     "traceback": [
      "\u001b[0;31m---------------------------------------------------------------------------\u001b[0m",
      "\u001b[0;31mAttributeError\u001b[0m                            Traceback (most recent call last)",
      "\u001b[1;32m/home/alissom/Documentos/Projetos_py/mlg/mlg.ipynb Cell 18'\u001b[0m in \u001b[0;36m<cell line: 2>\u001b[0;34m()\u001b[0m\n\u001b[1;32m      <a href='vscode-notebook-cell:/home/alissom/Documentos/Projetos_py/mlg/mlg.ipynb#ch0000017?line=0'>1</a>\u001b[0m x \u001b[39m=\u001b[39m LinearReg()\n\u001b[0;32m----> <a href='vscode-notebook-cell:/home/alissom/Documentos/Projetos_py/mlg/mlg.ipynb#ch0000017?line=1'>2</a>\u001b[0m x\u001b[39m.\u001b[39;49mLinearReg()\n",
      "\u001b[1;32m/home/alissom/Documentos/Projetos_py/mlg/mlg.ipynb Cell 17'\u001b[0m in \u001b[0;36mLinearReg.LinearReg\u001b[0;34m(X)\u001b[0m\n\u001b[1;32m      <a href='vscode-notebook-cell:/home/alissom/Documentos/Projetos_py/mlg/mlg.ipynb#ch0000016?line=4'>5</a>\u001b[0m \u001b[39mdef\u001b[39;00m \u001b[39mLinearReg\u001b[39m(X):\n\u001b[0;32m----> <a href='vscode-notebook-cell:/home/alissom/Documentos/Projetos_py/mlg/mlg.ipynb#ch0000016?line=5'>6</a>\u001b[0m    y \u001b[39m=\u001b[39m X\u001b[39m.\u001b[39;49mfloat() \u001b[39m@\u001b[39m \u001b[39mself\u001b[39m\u001b[39m.\u001b[39mw\u001b[39m.\u001b[39mtranspose(\u001b[39m0\u001b[39m,\u001b[39m1\u001b[39m) \u001b[39m+\u001b[39m \u001b[39mself\u001b[39m\u001b[39m.\u001b[39mb\n\u001b[1;32m      <a href='vscode-notebook-cell:/home/alissom/Documentos/Projetos_py/mlg/mlg.ipynb#ch0000016?line=6'>7</a>\u001b[0m    \u001b[39mreturn\u001b[39;00m \u001b[39mself\u001b[39m\u001b[39m.\u001b[39my\n",
      "\u001b[0;31mAttributeError\u001b[0m: 'LinearReg' object has no attribute 'float'"
     ]
    }
   ],
   "source": [
    "x = LinearReg()\n",
    "x.LinearReg()\n"
   ]
  }
 ],
 "metadata": {
  "interpreter": {
   "hash": "43bae068c0cf3e26bb718341bc98e1eff693d43b80578fe208d1a851c04b5de8"
  },
  "kernelspec": {
   "display_name": "Python 3.9.7 ('base')",
   "language": "python",
   "name": "python3"
  },
  "language_info": {
   "codemirror_mode": {
    "name": "ipython",
    "version": 3
   },
   "file_extension": ".py",
   "mimetype": "text/x-python",
   "name": "python",
   "nbconvert_exporter": "python",
   "pygments_lexer": "ipython3",
   "version": "3.9.7"
  },
  "orig_nbformat": 4
 },
 "nbformat": 4,
 "nbformat_minor": 2
}
