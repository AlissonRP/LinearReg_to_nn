{
  "cells": [
    {
      "cell_type": "markdown",
      "metadata": {
        "id": "view-in-github",
        "colab_type": "text"
      },
      "source": [
        "<a href=\"https://colab.research.google.com/github/AlissonRP/LinearReg_to_nn/blob/master/mlg.ipynb\" target=\"_parent\"><img src=\"https://colab.research.google.com/assets/colab-badge.svg\" alt=\"Open In Colab\"/></a>"
      ]
    },
    {
      "cell_type": "markdown",
      "metadata": {
        "id": "Hq-jcdX8ynCR"
      },
      "source": [
        "# Linear Regression from scratch"
      ]
    },
    {
      "cell_type": "markdown",
      "metadata": {
        "id": "CwfPhhclynCT"
      },
      "source": [
        "Vamos aqui implementar um  dos modelos estatísticos mais básicos:\n",
        "* Regressão Linear\n",
        "\n",
        "Em uma perspectiva de redes neurais"
      ]
    },
    {
      "cell_type": "markdown",
      "metadata": {
        "id": "O-33DLncynCU"
      },
      "source": [
        "## Regressão Linear\n",
        "O modelo de regressão linear é simplesmente uma estrutura que prediz a média ($\\mu_y$) de uma variável númerica $y$ utilizando combinação linear das covariáveis ($X_i$), ou seja:\n",
        "\n",
        "$$\n",
        "\\mu_y = \\sum_{i = 0}^{n}w_iX_i \\quad \\text{onde   \\quad $X_0$ = 1}\n",
        "$$\n",
        "\n",
        "\n"
      ]
    },
    {
      "cell_type": "markdown",
      "metadata": {
        "id": "9Jp317p1ynCV"
      },
      "source": [
        "Na prática possuimos algumas observações $(x_i,y_i)$ e não conhecemos os $w_i$, portanto faz-se necessário algum método de estimação. O método mais conhecido é o método dos mínimos quadrados que minimiza a soma da diferença quadrática dos erros, ou seja:\n",
        "\n",
        "$$\n",
        "min_{w_i}\\sum (Y - \\hat{\\mu}_y)²\n",
        "$$"
      ]
    },
    {
      "cell_type": "markdown",
      "metadata": {
        "id": "C2wrJTdPynCX"
      },
      "source": [
        "Mas aqui vamos tomar uma abordagem alternativa, vamos utilizar do gradiente descente como método de estimação dos $w_i$ e  tratar o modelo de regressão logística como um caso de uma rede neural."
      ]
    },
    {
      "cell_type": "markdown",
      "metadata": {
        "id": "6I08OZ5mynCX"
      },
      "source": [
        "## Deep Learning and PyTorch"
      ]
    },
    {
      "cell_type": "markdown",
      "metadata": {
        "id": "Hdkuii22ynCY"
      },
      "source": [
        "Podemos examinar a regressão linear como um caso simples de uma rede neural onde só possuímos um neuronio e a função de ligação é a identidade. Assim os parâmetros $w_i$ serão encontrados por backpropagation na rede."
      ]
    },
    {
      "cell_type": "markdown",
      "metadata": {
        "id": "nc6SqLT2ynCZ"
      },
      "source": [
        "### Why simulated data?"
      ]
    },
    {
      "cell_type": "markdown",
      "metadata": {
        "id": "yyFvqBydynCZ"
      },
      "source": [
        "Vamos simular os dados da nossa covariável $y$, pela seguinte função:\n",
        "$$\n",
        "y = Xw\n",
        "$$"
      ]
    },
    {
      "cell_type": "markdown",
      "metadata": {
        "id": "ghUdX-4oynCZ"
      },
      "source": [
        "Onde os dados $X$ vem de distribuições Poisson com diferentes parâmetros. Vamos utilizar de dados simulados, pois sabemos **exatamente** o valor dos parâmetros, em outras palavras sabemos com exatidão a estrutura da função geradora dos dados, com isso podemos avaliar a aproximação da nn."
      ]
    },
    {
      "cell_type": "code",
      "execution_count": null,
      "metadata": {
        "id": "c6ZI1fmsynCa"
      },
      "outputs": [],
      "source": [
        "import torch\n",
        "import numpy as np\n",
        "\n"
      ]
    },
    {
      "cell_type": "code",
      "execution_count": null,
      "metadata": {
        "id": "3AYXLgZdynCc"
      },
      "outputs": [],
      "source": [
        "np.random.seed(41)\n",
        "\n",
        "X = torch.from_numpy(np.random.exponential(scale=15,size =(15,4)))\n",
        "betas = torch.tensor([[1.,3.,15.,-2.]], dtype=torch.float64)\n",
        "b0 = torch.tensor([[2.]], dtype=torch.float64)\n",
        "y = X @ betas.t() + b0\n"
      ]
    },
    {
      "cell_type": "markdown",
      "metadata": {
        "id": "nO2w8WgoynCd"
      },
      "source": [
        "Assim o valor dos parâmetros é especificado pelo vetor `beta` e `b0`"
      ]
    },
    {
      "cell_type": "code",
      "execution_count": null,
      "metadata": {
        "id": "Wa2JhixFynCd",
        "outputId": "3b045ec0-330b-48cf-e55e-215ebb86b789"
      },
      "outputs": [
        {
          "data": {
            "text/plain": [
              "tensor([[ 1.,  3., 15., -2.]], dtype=torch.float64)"
            ]
          },
          "execution_count": 6,
          "metadata": {},
          "output_type": "execute_result"
        }
      ],
      "source": [
        "betas"
      ]
    },
    {
      "cell_type": "markdown",
      "metadata": {
        "id": "fvExTMeHynCe"
      },
      "source": [
        "### Nothing new until now"
      ]
    },
    {
      "cell_type": "markdown",
      "metadata": {
        "id": "djDMN-WdynCe"
      },
      "source": [
        "Vamos aqui estabelecer alguns hiperparâmetros da rede :\n",
        "\n",
        "* Loss: rmse := $\\sqrt{\\dfrac{1}{n}\\sum_{i= n}^{n}(y - \\hat{y})²}$\n",
        "* Optimizer: Gradient descent := $w_i = w_{i-1} - \\lambda \\dfrac{d \\text{Loss}}{dw_{i-1}}$\n",
        "* $\\lambda$ = 0.001\n",
        "* Valores de inicialização dos pesos vem de uma distribuição normal padrão"
      ]
    },
    {
      "cell_type": "code",
      "execution_count": null,
      "metadata": {
        "id": "5k8_a4xRynCf"
      },
      "outputs": [],
      "source": [
        "#https://www.analyticsvidhya.com/blog/2021/08/linear-regression-and-gradient-descent-in-pytorch/\n",
        "# definindo a loss\n",
        "def rmse(y,y_hat):\n",
        "    return torch.sqrt(((torch.pow(y-y_hat,2))/torch.numel(y)).sum())\n",
        "\n"
      ]
    },
    {
      "cell_type": "code",
      "execution_count": null,
      "metadata": {
        "id": "HooLCKGUynCf",
        "outputId": "a47688e7-13e7-482e-8cd1-ab83c38d28a0"
      },
      "outputs": [
        {
          "data": {
            "text/plain": [
              "tensor([-1.7254], dtype=torch.float64, requires_grad=True)"
            ]
          },
          "execution_count": 22,
          "metadata": {},
          "output_type": "execute_result"
        }
      ],
      "source": [
        "w = torch.randn(1,int(X[1].numel()), requires_grad=True, dtype=torch.float64)\n",
        "\n",
        "b =  torch.randn(1, requires_grad=True, dtype=torch.float64)\n",
        "\n",
        "b"
      ]
    },
    {
      "cell_type": "code",
      "execution_count": null,
      "metadata": {
        "id": "XmUd91dXynCg"
      },
      "outputs": [],
      "source": [
        "def LinearReg(inputs):\n",
        "    y_t = inputs @ w.transpose(0,1)  + b\n",
        "    return y_t\n",
        "    "
      ]
    },
    {
      "cell_type": "code",
      "execution_count": null,
      "metadata": {
        "id": "MtkPxD1nynCh",
        "outputId": "dc64b6cf-07b4-41b5-e238-92d69f372ff8"
      },
      "outputs": [
        {
          "data": {
            "text/plain": [
              "tensor(505.0479, dtype=torch.float64, grad_fn=<SqrtBackward>)"
            ]
          },
          "execution_count": 24,
          "metadata": {},
          "output_type": "execute_result"
        }
      ],
      "source": [
        "#LinearReg(X)\n",
        "loss = rmse(y,LinearReg(X))\n",
        "loss.backward()\n",
        "loss"
      ]
    },
    {
      "cell_type": "code",
      "execution_count": null,
      "metadata": {
        "id": "th0wM3isynCh",
        "outputId": "17167a09-1d82-43ce-e301-362274ea0246"
      },
      "outputs": [
        {
          "data": {
            "text/plain": [
              "tensor([0.], dtype=torch.float64)"
            ]
          },
          "execution_count": 25,
          "metadata": {},
          "output_type": "execute_result"
        }
      ],
      "source": [
        "\n",
        "w.grad.zero_()\n",
        "b.grad.zero_()"
      ]
    },
    {
      "cell_type": "code",
      "execution_count": null,
      "metadata": {
        "id": "aVh-QJYuynCh",
        "outputId": "7e01c391-098c-413a-e570-3e487053935a"
      },
      "outputs": [
        {
          "name": "stdout",
          "output_type": "stream",
          "text": [
            "tensor(0.6461, dtype=torch.float64, grad_fn=<SqrtBackward>)\n",
            "tensor(0.6461, dtype=torch.float64, grad_fn=<SqrtBackward>)\n"
          ]
        }
      ],
      "source": [
        "learning_rate = 0.001\n",
        "for i in range(1000):    \n",
        "    y_hat = LinearReg(X)\n",
        "    loss = rmse(y,y_hat)\n",
        "    loss.backward()\n",
        "    with torch.no_grad():\n",
        "        w -= learning_rate * w.grad\n",
        "        b -= learning_rate * b.grad\n",
        "        w.grad.zero_()\n",
        "        b.grad.zero_()\n",
        "    if i == 50 or i==900:\n",
        "        print(loss)"
      ]
    },
    {
      "cell_type": "code",
      "execution_count": null,
      "metadata": {
        "id": "NoOAmwfBynCi",
        "outputId": "c956120e-fe1a-4b60-aa1b-a6ce16cf2de5"
      },
      "outputs": [
        {
          "data": {
            "text/plain": [
              "tensor([[ 1.0184,  3.0285, 15.0179, -1.9772]], dtype=torch.float64,\n",
              "       requires_grad=True)"
            ]
          },
          "execution_count": 33,
          "metadata": {},
          "output_type": "execute_result"
        }
      ],
      "source": [
        "w"
      ]
    },
    {
      "cell_type": "code",
      "execution_count": null,
      "metadata": {
        "id": "XLFfMKOCynCj",
        "outputId": "1deb397e-5286-4c7c-ab44-865217ccadb1"
      },
      "outputs": [
        {
          "data": {
            "text/plain": [
              "tensor([[ 261.2693],\n",
              "        [  60.0724],\n",
              "        [ 144.7189],\n",
              "        [ 167.7342],\n",
              "        [ 329.7891],\n",
              "        [ 182.9445],\n",
              "        [ 110.9456],\n",
              "        [  79.9302],\n",
              "        [1742.1217],\n",
              "        [ 450.8701],\n",
              "        [ 145.6723],\n",
              "        [ 352.7420],\n",
              "        [ 117.3411],\n",
              "        [ 133.8173],\n",
              "        [ 663.0963]], dtype=torch.float64)"
            ]
          },
          "execution_count": 28,
          "metadata": {},
          "output_type": "execute_result"
        }
      ],
      "source": [
        "y"
      ]
    },
    {
      "cell_type": "code",
      "execution_count": null,
      "metadata": {
        "id": "PGghzkKMynCj"
      },
      "outputs": [],
      "source": [
        "from sklearn.linear_model import LinearRegression\n",
        "reg = LinearRegression().fit(df.data,df.target)"
      ]
    },
    {
      "cell_type": "code",
      "execution_count": null,
      "metadata": {
        "id": "7glebvNJynCk",
        "outputId": "1eea3073-dd71-478c-a99b-88de183ddf01"
      },
      "outputs": [
        {
          "data": {
            "text/plain": [
              "2859.6903987680657"
            ]
          },
          "execution_count": 62,
          "metadata": {},
          "output_type": "execute_result"
        }
      ],
      "source": [
        "from sklearn.metrics import mean_squared_error\n",
        "\n",
        "mean_squared_error(reg.predict(df.data),df.target)"
      ]
    },
    {
      "cell_type": "code",
      "execution_count": null,
      "metadata": {
        "id": "7tDH_SkkynCk"
      },
      "outputs": [],
      "source": [
        ""
      ]
    },
    {
      "cell_type": "code",
      "execution_count": null,
      "metadata": {
        "id": "p6kkfxLiynCl"
      },
      "outputs": [],
      "source": [
        ""
      ]
    }
  ],
  "metadata": {
    "interpreter": {
      "hash": "43bae068c0cf3e26bb718341bc98e1eff693d43b80578fe208d1a851c04b5de8"
    },
    "kernelspec": {
      "display_name": "Python 3.9.7 ('base')",
      "language": "python",
      "name": "python3"
    },
    "language_info": {
      "codemirror_mode": {
        "name": "ipython",
        "version": 3
      },
      "file_extension": ".py",
      "mimetype": "text/x-python",
      "name": "python",
      "nbconvert_exporter": "python",
      "pygments_lexer": "ipython3",
      "version": "3.9.7"
    },
    "orig_nbformat": 4,
    "colab": {
      "name": "mlg.ipynb",
      "provenance": [],
      "include_colab_link": true
    }
  },
  "nbformat": 4,
  "nbformat_minor": 0
}